{
 "cells": [
  {
   "cell_type": "markdown",
   "metadata": {
    "slideshow": {
     "slide_type": "skip"
    }
   },
   "source": [
    "jupyter nbconvert imports-and-packages.ipynb --to slides --post serve --SlidesExporter.reveal_transition=none"
   ]
  },
  {
   "cell_type": "markdown",
   "metadata": {
    "slideshow": {
     "slide_type": "slide"
    }
   },
   "source": [
    "# Python Imports & Packages"
   ]
  },
  {
   "cell_type": "markdown",
   "metadata": {
    "slideshow": {
     "slide_type": "slide"
    }
   },
   "source": [
    "## What is a package?\n",
    "\n",
    "- a regular\\* package is just a directory with an `__init__.py`\n",
    "- `__init__.py` can contain any python code\n",
    "- when the package is imported the code in `__init__.py` is executed, and any objects defined in it are bound to the package's namespace\n",
    "\n",
    "Packages $\\sim$ directories ; modules $\\sim$ files"
   ]
  },
  {
   "cell_type": "markdown",
   "metadata": {
    "slideshow": {
     "slide_type": "fragment"
    }
   },
   "source": [
    "\\* There are also implicit namespace packages (since Python 3.3) which we won't cover here. See PEP 420 to learn more."
   ]
  },
  {
   "cell_type": "markdown",
   "metadata": {
    "slideshow": {
     "slide_type": "slide"
    }
   },
   "source": [
    "## What actually happens when you import a package?\n",
    "\n",
    "```sh\n",
    "parent/\n",
    "    __init__.py\n",
    "    one/\n",
    "        __init__.py\n",
    "    two/\n",
    "        __init__.py\n",
    "```\n",
    "\n",
    "Given the structure above, when you run `import parent.one` then both `parent/__init__.py` and `parent/one/__init__.py` will be executed."
   ]
  },
  {
   "cell_type": "markdown",
   "metadata": {
    "slideshow": {
     "slide_type": "slide"
    }
   },
   "source": [
    "## Where are packages found?\n",
    "\n",
    "When you `import somepackage`, under the hood python runs `__import__()` function, which searches for the package and binds it to an object name.\n",
    "\n",
    "Locations searched for the package:\n",
    "1. Previously imported modules (`sys.modules`)\n",
    "2. Current working directory\n",
    "3. Python search path (`sys.path` which includes your PYTHONPATH)"
   ]
  },
  {
   "cell_type": "markdown",
   "metadata": {
    "slideshow": {
     "slide_type": "slide"
    }
   },
   "source": [
    "## What about the namespace?\n",
    "\n",
    "```sh\n",
    "parent/\n",
    "    __init__.py\n",
    "    one/\n",
    "        __init__.py\n",
    "    two/\n",
    "        __init__.py\n",
    "```\n",
    "\n",
    "Suppose that ` __init__.py` file contained the single line `foo = 'bar'`. That means you could:\n",
    "\n",
    "```py\n",
    ">>> import parent.one as p\n",
    ">>> print(p.foo)\n",
    "bar\n",
    "```\n",
    "\n",
    "Often we use the ` __init__.py` to import subpackages and modules in specific ways to control the \"namespace\", or the way in which functions and other objects are accessible."
   ]
  },
  {
   "cell_type": "markdown",
   "metadata": {
    "slideshow": {
     "slide_type": "slide"
    }
   },
   "source": [
    "## Python Scripts\n",
    "\n",
    "When you execute a `.py` file on the command line, everything in it runs:\n",
    "\n",
    "```py\n",
    "# contents of script.py\n",
    "\n",
    "def cool_func():\n",
    "    print('so cool')\n",
    "\n",
    "\n",
    "print('Calling cool_func:')\n",
    "cool_func()\n",
    "\n",
    "# end of script.py\n",
    "```"
   ]
  },
  {
   "cell_type": "markdown",
   "metadata": {
    "slideshow": {
     "slide_type": "fragment"
    }
   },
   "source": [
    "```sh\n",
    "$ python script.py\n",
    "Calling cool_func:\n",
    "so cool\n",
    "```"
   ]
  },
  {
   "cell_type": "markdown",
   "metadata": {
    "slideshow": {
     "slide_type": "fragment"
    }
   },
   "source": [
    "... but if you import that module, it still gets run\n",
    "\n",
    "```py\n",
    ">>> import script\n",
    "Calling cool_func:\n",
    "so cool\n",
    "```\n",
    "\n",
    "which is kinda awkward. We don't expect output when we import."
   ]
  },
  {
   "cell_type": "markdown",
   "metadata": {
    "slideshow": {
     "slide_type": "slide"
    }
   },
   "source": [
    "## Python Scripts\n",
    "\n",
    "- when you import a file as a module, Python sets `__name__` to the name of the file\n",
    "- when you run the file as a script, Python sets `__name__` to the string `__main__`"
   ]
  },
  {
   "cell_type": "markdown",
   "metadata": {
    "slideshow": {
     "slide_type": "fragment"
    }
   },
   "source": [
    "```py\n",
    "# contents of script.py\n",
    "\n",
    "def cool_func():\n",
    "    print('so cool')\n",
    "\n",
    "\n",
    "if __name__ == '__main__':\n",
    "    print('Calling cool_func:')\n",
    "    cool_func()\n",
    "\n",
    "# end of script.py\n",
    "```\n",
    "\n",
    "Now the output/printing only happens when its run as a script, but I can still import `cool_func` elsewhere without weird side effects."
   ]
  },
  {
   "cell_type": "markdown",
   "metadata": {
    "slideshow": {
     "slide_type": "slide"
    }
   },
   "source": [
    "## Hands-on demo: let's make a package\n",
    "\n",
    "- open a terminal and navigate to whereever you want to work\n",
    "- also launch jupyter notebook (or ipython in a terminal if you prefer)\n",
    "- we'll be back and forth between bash terminal, python, and whatever code editor you like"
   ]
  },
  {
   "cell_type": "markdown",
   "metadata": {
    "slideshow": {
     "slide_type": "slide"
    }
   },
   "source": [
    "### 1. Create the following directories (with *empty* init files to start)\n",
    "\n",
    "```sh\n",
    "animals/\n",
    "    __init__.py\n",
    "    dogs/\n",
    "        __init__.py\n",
    "        breeds.py\n",
    "```\n",
    "\n",
    "### 2. Add a function or variable definition in `breeds.py`\n",
    "\n",
    "### 3. Try out different ways to import it from ipython or jupyter notebook"
   ]
  },
  {
   "cell_type": "markdown",
   "metadata": {
    "slideshow": {
     "slide_type": "slide"
    }
   },
   "source": [
    "### 4. Add a subpackage `cats`\n",
    "\n",
    "```sh\n",
    "animals/\n",
    "    __init__.py\n",
    "    dogs/\n",
    "        __init__.py\n",
    "        breeds.py\n",
    "    cats/\n",
    "        __init__.py\n",
    "```\n",
    "\n",
    "### 5. Add a fun cat fact right in the `__init__.py` itself\n",
    "\n",
    "### 6. Try out different ways to import the cat fact"
   ]
  },
  {
   "cell_type": "markdown",
   "metadata": {
    "slideshow": {
     "slide_type": "slide"
    }
   },
   "source": [
    "## Refactor!\n",
    "\n",
    "Suppose your `animal` package grows so large that you need to refactor. Since it now supports wild animals, you decide it makes sense to move domesticated animals under a new `pets` level.\n",
    "\n",
    "```sh\n",
    "animals/\n",
    "    __init__.py\n",
    "    pets/\n",
    "        __init__.py\n",
    "        dogs/\n",
    "            __init__.py\n",
    "            breeds.py\n",
    "        cats/\n",
    "            __init__.py\n",
    "    wild/\n",
    "        ...\n",
    "```"
   ]
  },
  {
   "cell_type": "markdown",
   "metadata": {
    "slideshow": {
     "slide_type": "fragment"
    }
   },
   "source": [
    "### 7.  Create `pets` and move `cats` and `dogs` underneath it.\n",
    "\n",
    "### 8. Try out different ways to import your dog-related function or variable in `breeds.py`"
   ]
  },
  {
   "cell_type": "markdown",
   "metadata": {
    "slideshow": {
     "slide_type": "slide"
    }
   },
   "source": [
    "## Control the namespace!\n",
    "\n",
    "Dogs are important, so we need an easier way to access this functionality.\n",
    "\n",
    "### 9. Modify the top-level `__init__.py` to import from `breeds.py`\n",
    "\n",
    "### 10. Try out different ways to import this"
   ]
  }
 ],
 "metadata": {
  "celltoolbar": "Slideshow",
  "kernelspec": {
   "display_name": "Python 3",
   "language": "python",
   "name": "python3"
  },
  "language_info": {
   "codemirror_mode": {
    "name": "ipython",
    "version": 3
   },
   "file_extension": ".py",
   "mimetype": "text/x-python",
   "name": "python",
   "nbconvert_exporter": "python",
   "pygments_lexer": "ipython3",
   "version": "3.7.2"
  }
 },
 "nbformat": 4,
 "nbformat_minor": 2
}
