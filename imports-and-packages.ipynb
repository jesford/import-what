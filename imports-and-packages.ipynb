{
 "cells": [
  {
   "cell_type": "markdown",
   "metadata": {},
   "source": [
    "# Python Imports & Packages"
   ]
  },
  {
   "cell_type": "markdown",
   "metadata": {},
   "source": [
    "## What is a package?\n",
    "\n",
    "- a regular\\* package is just a directory with an `__init__.py`\n",
    "- `__init__.py` can contain any python code\n",
    "- when the package is imported the code in `__init__.py` is executed, and any objects defined in it are bound to the package's namespace\n",
    "\n",
    "Packages $\\sim$ directories ; modules $\\sim$ files"
   ]
  },
  {
   "cell_type": "markdown",
   "metadata": {},
   "source": [
    "\\* There are also implicit namespace packages (since Python 3.3) which we won't cover here. See PEP 420 to learn more."
   ]
  },
  {
   "cell_type": "markdown",
   "metadata": {},
   "source": [
    "## What actually happens when you import a package?\n",
    "\n",
    "```sh\n",
    "parent/\n",
    "    __init__.py\n",
    "    one/\n",
    "        __init__.py\n",
    "    two/\n",
    "        __init__.py\n",
    "```\n",
    "\n",
    "Given the structure above, when you run `import parent.one` then both `parent/__init__.py` and `parent/one/__init__.py` will be executed."
   ]
  },
  {
   "cell_type": "markdown",
   "metadata": {},
   "source": [
    "## Where are packages found?\n",
    "\n",
    "When you `import somepackage`, under the hood python runs `__import__()` function, which searches for the package and binds it to an object name.\n",
    "\n",
    "Locations searched for the package:\n",
    "1. Previously imported modules (`sys.modules`)\n",
    "2. Current working directory\n",
    "3. Python search path (`sys.path` which includes your PYTHONPATH)"
   ]
  },
  {
   "cell_type": "markdown",
   "metadata": {},
   "source": [
    "## What about the namespace?\n",
    "\n",
    "```sh\n",
    "parent/\n",
    "    __init__.py\n",
    "    one/\n",
    "        __init__.py\n",
    "    two/\n",
    "        __init__.py\n",
    "```\n",
    "\n",
    "Suppose that ` __init__.py` file contained the single line `foo = 'bar'`. That means you could:\n",
    "\n",
    "```py\n",
    "import parent.one as p\n",
    "\n",
    "print(p.foo)\n",
    "bar\n",
    "```\n",
    "\n",
    "Often we use the ` __init__.py` to import subpackages and modules in specific ways to control the \"namespace\", or the way in which functions and other objects are accessible."
   ]
  },
  {
   "cell_type": "markdown",
   "metadata": {},
   "source": [
    "## Hands-on demo: let's make a package\n",
    "\n",
    "Maybe include bit about scripts vs imports in https://realpython.com/python-modules-packages/"
   ]
  }
 ],
 "metadata": {
  "kernelspec": {
   "display_name": "Python 3",
   "language": "python",
   "name": "python3"
  },
  "language_info": {
   "codemirror_mode": {
    "name": "ipython",
    "version": 3
   },
   "file_extension": ".py",
   "mimetype": "text/x-python",
   "name": "python",
   "nbconvert_exporter": "python",
   "pygments_lexer": "ipython3",
   "version": "3.6.8"
  }
 },
 "nbformat": 4,
 "nbformat_minor": 2
}
